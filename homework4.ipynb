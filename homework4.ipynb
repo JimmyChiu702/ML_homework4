{
 "cells": [
  {
   "cell_type": "markdown",
   "metadata": {},
   "source": [
    "# Machine Learning Homework 4"
   ]
  },
  {
   "cell_type": "markdown",
   "metadata": {},
   "source": [
    "## Logistic Regression"
   ]
  },
  {
   "cell_type": "code",
   "execution_count": 13,
   "metadata": {},
   "outputs": [],
   "source": [
    "import numpy as np\n",
    "import matplotlib.pyplot as plt"
   ]
  },
  {
   "cell_type": "code",
   "execution_count": 14,
   "metadata": {},
   "outputs": [],
   "source": [
    "# Input parameters\n",
    "\n",
    "N = 50\n",
    "mx1, my1 = 1, 1\n",
    "vx1, vy1 = 2, 2\n",
    "mx2, my2 = 10, 10\n",
    "vx2, vy2 = 2, 2"
   ]
  },
  {
   "cell_type": "code",
   "execution_count": 21,
   "metadata": {},
   "outputs": [
    {
     "data": {
      "text/plain": [
       "[<matplotlib.lines.Line2D at 0x118899150>]"
      ]
     },
     "execution_count": 21,
     "metadata": {},
     "output_type": "execute_result"
    },
    {
     "data": {
      "image/png": "[encoded data removed]",
      "text/plain": [
       "<Figure size 432x288 with 1 Axes>"
      ]
     },
     "metadata": {
      "needs_background": "light"
     },
     "output_type": "display_data"
    }
   ],
   "source": [
    "# Generate data points\n",
    "\n",
    "gt_x1 = np.random.randn(N)*vx1 + mx1\n",
    "gt_y1 = np.random.randn(N)*vy1 + my1\n",
    "\n",
    "gt_x2 = np.random.randn(N)*vx2 + mx2\n",
    "gt_y2 = np.random.randn(N)*vy2 + my2\n",
    "\n",
    "plt.plot(gt_x1, gt_y1, 'ro')\n",
    "plt.plot(gt_x2, gt_y2, 'bo')"
   ]
  },
  {
   "cell_type": "code",
   "execution_count": 22,
   "metadata": {},
   "outputs": [],
   "source": [
    "def sigmoid(z):\n",
    "    return 1.0 / (1 + np.exp(z))\n",
    "\n",
    "def predict(data, weights):\n",
    "    return sigmoid(np.dot(data, weights))\n",
    "\n",
    "def loss_func(data, weights, labels):\n",
    "    predictions = predict(data, weights)\n",
    "    cost = -1*label.T.dot(np.log(predictions)) + -1*(1-label).T.dot(np.log(1-predictions))\n",
    "    return cost\n",
    "\n",
    "def update_weights(data, labels, weights, lr):\n",
    "    predictions = predict(data, weights)\n",
    "    gradient = data.T.dot(predictions-labels)\n",
    "    gradient = (gradient/len(labels)) * lr\n",
    "    weights -= gradient\n",
    "    return weights\n",
    "\n",
    "def train(data, labels, lr)"
   ]
  },
  {
   "cell_type": "code",
   "execution_count": null,
   "metadata": {},
   "outputs": [],
   "source": []
  },
  {
   "cell_type": "markdown",
   "metadata": {},
   "source": [
    "## EM Algorithm"
   ]
  },
  {
   "cell_type": "code",
   "execution_count": 23,
   "metadata": {},
   "outputs": [],
   "source": [
    "import numpy as np"
   ]
  },
  {
   "cell_type": "code",
   "execution_count": 36,
   "metadata": {},
   "outputs": [],
   "source": [
    "# parse the input files\n",
    "\n",
    "import struct\n",
    "\n",
    "with open('./train-labels-idx1-ubyte', 'rb') as f:\n",
    "    data = f.read()\n",
    "    offset = 0\n",
    "    fmt = '>2i'\n",
    "    magic_num, num_labels = struct.unpack_from(fmt, data, offset)\n",
    "    offset += struct.calcsize(fmt)\n",
    "    fmt = '>{}B'.format(str(num_labels))\n",
    "    labels = np.array(struct.unpack_from(fmt, data, offset))\n",
    "\n",
    "with open('./train-images-idx3-ubyte', 'rb') as f:\n",
    "    data = f.read()\n",
    "    offset = 0\n",
    "    fmt = '>4i'\n",
    "    magic_num, num_images, height, width = struct.unpack_from(fmt, data, offset)\n",
    "    image_size = height*width\n",
    "    offset += struct.calcsize(fmt)\n",
    "    fmt = '>{}B'.format(str(image_size))\n",
    "    images = np.empty((num_images, image_size))\n",
    "    for i in range(num_images):\n",
    "        images[i] = np.array(struct.unpack_from(fmt, data, offset))\n",
    "        offset += struct.calcsize(fmt)\n",
    "        \n",
    "# Preprocess input images\n",
    "\n",
    "f = np.vectorize(lambda x: 0 if x < 128 else 1)\n",
    "images = f(images)"
   ]
  },
  {
   "cell_type": "code",
   "execution_count": null,
   "metadata": {},
   "outputs": [],
   "source": [
    "mean = np.ones((10, 784))*0.1\n",
    "pi = np.ones(10)*0.1\n",
    "\n",
    "for i in range(10):\n",
    "    predictions = []\n",
    "    w = []\n",
    "    \n",
    "    # Expectation step\n",
    "    for img in images:\n",
    "        t = [pi[k]*np.log([mean[k][l] if img[l] > 0 else (1-mean[k][l]) for l in range(784)]).sum() for k in range(10)]\n",
    "        z = t/sum(t)\n",
    "        w.append(z)\n",
    "        predictions = np.argmax(z)\n",
    "        \n",
    "    # Maximize step\n",
    "    for j in range(10):\n",
    "        img_cluster = [images[i] for i in range(len(images)) if predictions[i] == j]\n",
    "        mean[j] = np.sum(img_cluster, axis=0)/len(img_cluster)\n",
    "    pi = np.sum(w, axis=0)"
   ]
  },
  {
   "cell_type": "code",
   "execution_count": 32,
   "metadata": {},
   "outputs": [
    {
     "name": "stdout",
     "output_type": "stream",
     "text": [
      "[0 1 1]\n"
     ]
    }
   ],
   "source": [
    "f = np.vectorize(lambda x: 0 if x < 128 else 1)\n",
    "a = [123, 145, 132]\n",
    "print(f(a))"
   ]
  },
  {
   "cell_type": "code",
   "execution_count": null,
   "metadata": {},
   "outputs": [],
   "source": [
    "print(w)"
   ]
  }
 ],
 "metadata": {
  "kernelspec": {
   "display_name": "Python 3",
   "language": "python",
   "name": "python3"
  },
  "language_info": {
   "codemirror_mode": {
    "name": "ipython",
    "version": 3
   },
   "file_extension": ".py",
   "mimetype": "text/x-python",
   "name": "python",
   "nbconvert_exporter": "python",
   "pygments_lexer": "ipython3",
   "version": "3.7.4"
  }
 },
 "nbformat": 4,
 "nbformat_minor": 2
}
